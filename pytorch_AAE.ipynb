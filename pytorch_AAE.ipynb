{
  "nbformat": 4,
  "nbformat_minor": 0,
  "metadata": {
    "colab": {
      "name": "pytorch_AAE.ipynb",
      "provenance": [],
      "collapsed_sections": [],
      "authorship_tag": "ABX9TyNgjpZn/IQ3hlLoXzN3ikNB",
      "include_colab_link": true
    },
    "kernelspec": {
      "name": "python3",
      "display_name": "Python 3"
    }
  },
  "cells": [
    {
      "cell_type": "markdown",
      "metadata": {
        "id": "view-in-github",
        "colab_type": "text"
      },
      "source": [
        "<a href=\"https://colab.research.google.com/github/Lzino/TIL_Today-I-Learned/blob/master/pytorch_AAE.ipynb\" target=\"_parent\"><img src=\"https://colab.research.google.com/assets/colab-badge.svg\" alt=\"Open In Colab\"/></a>"
      ]
    },
    {
      "cell_type": "markdown",
      "metadata": {
        "id": "H8qv7pxm6DqP",
        "colab_type": "text"
      },
      "source": [
        "## Pytorch_ver AAE\n",
        "* https://github.com/eriklindernoren/PyTorch-GAN"
      ]
    },
    {
      "cell_type": "code",
      "metadata": {
        "id": "-O6PhDe66LOU",
        "colab_type": "code",
        "colab": {}
      },
      "source": [
        "import argparse\n",
        "import os\n",
        "import numpy as np\n",
        "import math\n",
        "import itertools\n",
        "\n",
        "import torchvision.transforms as transforms\n",
        "from torchvision.utils import save_image\n",
        "\n",
        "from torch.utils.data import DataLoader\n",
        "from torchvision import datasets\n",
        "from torch.autograd import Variable\n",
        "\n",
        "import torch.nn as nn\n",
        "import torch.nn.functional as F\n",
        "import torch\n",
        "\n",
        "import matplotlib.pyplot as plt\n",
        "import torchvision.transforms as transforms"
      ],
      "execution_count": 1,
      "outputs": []
    },
    {
      "cell_type": "code",
      "metadata": {
        "id": "j-xhRGb35_UK",
        "colab_type": "code",
        "colab": {}
      },
      "source": [
        "n_epoch = 10\n",
        "batch_size = 64\n",
        "lr = 0.0001\n",
        "b1=0.5 # ??\n",
        "b2=0.999 # ??\n",
        "n_cput=8 # ?????\n",
        "latent_dim=10\n",
        "img_size=32\n",
        "channels=1\n",
        "sample_interval=50 ## ???\n",
        "img_shape = (channels, img_size, img_size)\n",
        "\n",
        "cuda = True if torch.cuda.is_available() else False"
      ],
      "execution_count": 2,
      "outputs": []
    },
    {
      "cell_type": "markdown",
      "metadata": {
        "id": "Rs2fDSrQ9Bzq",
        "colab_type": "text"
      },
      "source": [
        "### AutoEncoder"
      ]
    },
    {
      "cell_type": "code",
      "metadata": {
        "id": "NEHx5nYN7a4f",
        "colab_type": "code",
        "colab": {}
      },
      "source": [
        "def reparameterization(mu, logvar):\n",
        "  std = torch.exp(logvar /2)\n",
        "  sample_z = Variable(Tensor(np.random.normal(0, 1 (mu.size(0), latent_dim))))\n",
        "  z = sample_z * std + mu\n",
        "  return z\n",
        "\n",
        "class Encoder(nn.Module):\n",
        "  def __init__(self):\n",
        "    super(Encoder,self).__init__()\n",
        "\n",
        "    # ref. of inplace : https://discuss.pytorch.org/t/whats-the-difference-between-nn-relu-and-nn-relu-inplace-true/948\n",
        "    self.model = nn.Sequential(\n",
        "        nn.Linear(int(np.prod(img_shape)), 512),\n",
        "        nn.LeakyReLU(0.2, inplace= True),\n",
        "        nn.Linear(512, 512),\n",
        "        nn.BatchNorm1d(512),\n",
        "        nn.LeakyReLU(0.2, inplace= True)\n",
        "    )\n",
        "    self.mu = nn.Linear(512, latent_dim)\n",
        "    self.logvar = nn.Linear(512, latent_dim)\n",
        "\n",
        "  def forward(self, img):\n",
        "    img_flat = img.view(img.shape[0], -1)\n",
        "    x = self.model(img_flat)\n",
        "    mu = self.mu(x)\n",
        "    logvar = self.logvar(x)\n",
        "    z = reparameterization(mu, logvar)\n",
        "    return z \n",
        "\n",
        "class Decoder(nn.Module):\n",
        "  def __init__(self):\n",
        "    super(Decoder, self).__init__()\n",
        "\n",
        "    self.model = nn.Sequential(\n",
        "        nn.Linear(latent_dim, 512),\n",
        "        nn.LeakyReLU(512, 512),\n",
        "        nn.BatchNorm1d(512),\n",
        "        nn.LeakyReLU(0.2, inplace= True),\n",
        "        nn.Linear(512, int(np.prod(img_shape))),\n",
        "        nn.Tanh()\n",
        "    )\n",
        "  def forward(self, z):\n",
        "    img_flat = self.model(z)\n",
        "    img = img_flat.view(img_flat.shape[0], *img_shape)\n",
        "    return img"
      ],
      "execution_count": 6,
      "outputs": []
    },
    {
      "cell_type": "markdown",
      "metadata": {
        "id": "6Vp_057K_RYN",
        "colab_type": "text"
      },
      "source": [
        "### Discriminator"
      ]
    },
    {
      "cell_type": "code",
      "metadata": {
        "id": "T7dl1JVc_JU5",
        "colab_type": "code",
        "colab": {}
      },
      "source": [
        "class Discriminator(nn.Module):\n",
        "  def __init__(self):\n",
        "    super(Discriminator, self).__init__()\n",
        "\n",
        "    self.model = nn.Sequential(\n",
        "        nn.Linear(latent_dim, 512),\n",
        "        nn.LeakyReLU(0.2, inplace = True),\n",
        "        nn.Linear(512, 256),\n",
        "        nn.LeakyReLU(0.2, inplace= True),\n",
        "        nn.Linear(256, 1),\n",
        "        nn.Sigmoid(),\n",
        "    )\n",
        "    \n",
        "    def forward(self, z):\n",
        "      validity = self.model(z)\n",
        "      return validity"
      ],
      "execution_count": 7,
      "outputs": []
    },
    {
      "cell_type": "markdown",
      "metadata": {
        "id": "k-VJMzb0B50j",
        "colab_type": "text"
      },
      "source": [
        "### Loss & Optimizer& Etc. Setting"
      ]
    },
    {
      "cell_type": "code",
      "metadata": {
        "id": "xYcQFH4WB44Z",
        "colab_type": "code",
        "colab": {}
      },
      "source": [
        "adversarial_loss = torch.nn.BCELoss()\n",
        "pixelwise_loss = torch.nn.L1Loss() # can be MSELoss"
      ],
      "execution_count": 8,
      "outputs": []
    },
    {
      "cell_type": "code",
      "metadata": {
        "id": "mjhWZjY3djqf",
        "colab_type": "code",
        "colab": {}
      },
      "source": [
        "encoder = Encoder()\n",
        "decoder = Decoder()\n",
        "discriminator = Discriminator()"
      ],
      "execution_count": 9,
      "outputs": []
    },
    {
      "cell_type": "code",
      "metadata": {
        "id": "zRtvHZ7beKE-",
        "colab_type": "code",
        "colab": {}
      },
      "source": [
        "if cuda :\n",
        "  encoder.cuda()\n",
        "  decoder.cuda()\n",
        "  discriminator.cuda()\n",
        "  adversarial_loss.cuda()\n",
        "  pixelwise_loss.cuda()"
      ],
      "execution_count": 10,
      "outputs": []
    },
    {
      "cell_type": "code",
      "metadata": {
        "id": "uIstbSOuehQu",
        "colab_type": "code",
        "colab": {}
      },
      "source": [
        "optimizer_G = torch.optim.Adam(\n",
        "    itertools.chain(encoder.parameters(), decoder.parameters()), lr=lr, betas=(b1, b2)\n",
        ")\n",
        "Optimizer_D = torch.optim.Adam(discriminator.parameters(), lr = lr, betas = (b1 , b2))\n",
        "\n",
        "Tensor = torch.cuda.FloatTensor if cuda else torch.FloatTensor"
      ],
      "execution_count": 18,
      "outputs": []
    },
    {
      "cell_type": "code",
      "metadata": {
        "id": "BKebMFcMeTXG",
        "colab_type": "code",
        "colab": {}
      },
      "source": [
        "# Data loader\n",
        "os.makedirs(\"../../data/mnist\", exist_ok=True)\n",
        "dataloader = torch.utils.data.DataLoader(\n",
        "    datasets.MNIST(\n",
        "        \"../../data/mnist\",\n",
        "        train=True,\n",
        "        download=True,\n",
        "        transform=transforms.Compose(\n",
        "            [transforms.Resize(img_size), transforms.ToTensor(), transforms.Normalize([0.5], [0.5])]\n",
        "        ),\n",
        "    ),\n",
        "    batch_size= batch_size,\n",
        "    shuffle=True,\n",
        ")"
      ],
      "execution_count": 14,
      "outputs": []
    },
    {
      "cell_type": "code",
      "metadata": {
        "id": "21Gtp7QOfm9b",
        "colab_type": "code",
        "colab": {}
      },
      "source": [
        "def sample_image(n_row, batches_done):\n",
        "    \"\"\"Saves a grid of generated digits\"\"\"\n",
        "    # Sample noise\n",
        "    z = Variable(Tensor(np.random.normal(0, 1, (n_row ** 2, opt.latent_dim))))\n",
        "    gen_imgs = decoder(z)\n",
        "    save_image(gen_imgs.data, \"images/%d.png\" % batches_done, nrow=n_row, normalize=True)"
      ],
      "execution_count": 15,
      "outputs": []
    },
    {
      "cell_type": "markdown",
      "metadata": {
        "id": "LbK78jQrfoVW",
        "colab_type": "text"
      },
      "source": [
        "## Training"
      ]
    },
    {
      "cell_type": "code",
      "metadata": {
        "id": "rND9G8NFfswe",
        "colab_type": "code",
        "colab": {}
      },
      "source": [
        "for epoch in range(n_epoch):\n",
        "  for i, (imgs, _) in enumerate(dataloader):\n",
        "\n",
        "    valid = Variable(Tensor(imgs.shape[0], 1).fill_(1.0), require_grad = False)\n",
        "    fake = Variable(Tensor(imgs.shape[0], 1).fill_(0.0), require_grad = False)\n",
        "\n",
        "    real_imgs = Variable(imgs.type(Tensor))\n",
        "\n",
        "    ## Train Generator\n",
        "\n",
        "    Optimizer_G.zero_grad()\n",
        "\n",
        "    encoded_imgs = encoder(real_imgs) # output of Encoder\n",
        "    decoded_imgs = decoder(encoded_imgs) # output of Decoder\n",
        "\n",
        "    g_loss = 0.001 * adversarial_loss(discriminator(encoded_imgs), valid) + 0.999 * pixelwise_loss(decoded_imgs, real_imgs)\n",
        "\n",
        "    g_loss.backward()\n",
        "    optimizer_G.step()\n",
        "\n",
        "    ## Train Discriminator\n",
        "\n",
        "    optimizer_D.zero_grad()\n",
        "\n",
        "    # Sample noise\n",
        "    z = Variable(Tensor(np.random.normal(0,1, (img.shape[0]), latent_dim)))\n",
        "\n",
        "    real_loss = adversarial_loss(discriminator(z), valid)\n",
        "    \n",
        "    # ref. of fake.detach() : https://redstarhong.tistory.com/64 \n",
        "    fake_loss = adversarial_loss(discriminator(encoded_imgs.detach()), fake)\n",
        "    d_loss = 0.5 * (real_loss + fake_loss)\n",
        "\n",
        "    d_loss.backward()\n",
        "    optimizer_D.step()\n",
        "\n",
        "    print(\n",
        "            \"[Epoch %d/%d] [Batch %d/%d] [D loss: %f] [G loss: %f]\"\n",
        "            % (epoch, opt.n_epochs, i, len(dataloader), d_loss.item(), g_loss.item())\n",
        "        )\n",
        "    \n",
        "    batch_done = epoch * len(dataloader) + i\n",
        "    if batch_done % sample_interval == 0:\n",
        "      sample_image(n_row = 10, batches_done= batches_done)"
      ],
      "execution_count": null,
      "outputs": []
    }
  ]
}