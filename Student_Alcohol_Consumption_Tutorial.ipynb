{
  "nbformat": 4,
  "nbformat_minor": 0,
  "metadata": {
    "_change_revision": 0,
    "_is_fork": false,
    "kernelspec": {
      "display_name": "Python 3",
      "language": "python",
      "name": "python3"
    },
    "language_info": {
      "codemirror_mode": {
        "name": "ipython",
        "version": 3
      },
      "file_extension": ".py",
      "mimetype": "text/x-python",
      "name": "python",
      "nbconvert_exporter": "python",
      "pygments_lexer": "ipython3",
      "version": "3.5.2"
    },
    "colab": {
      "name": "Student Alcohol Consumption_Tutorial.ipynb",
      "provenance": [],
      "collapsed_sections": [],
      "include_colab_link": true
    }
  },
  "cells": [
    {
      "cell_type": "markdown",
      "metadata": {
        "id": "view-in-github",
        "colab_type": "text"
      },
      "source": [
        "<a href=\"https://colab.research.google.com/github/Lzino/TIL_Today-I-Learned/blob/master/Student_Alcohol_Consumption_Tutorial.ipynb\" target=\"_parent\"><img src=\"https://colab.research.google.com/assets/colab-badge.svg\" alt=\"Open In Colab\"/></a>"
      ]
    },
    {
      "cell_type": "markdown",
      "metadata": {
        "id": "_UjunYo3RkpJ",
        "colab_type": "text"
      },
      "source": [
        "양재R&CD 입문자과정 조교 활동으로 인해 해당 competition으로 학생들을 가르칠 예정. 겸사겸사 TIL\n",
        "\n",
        "* 해당 교육과정 : http://yangjaehub.com/newsinfo/notices/?pageid=1&mod=document&category1=%EA%B5%90%EC%9C%A1&uid=146\n",
        "* Dataset : https://www.kaggle.com/uciml/student-alcohol-consumption"
      ]
    },
    {
      "cell_type": "code",
      "metadata": {
        "_cell_guid": "87372d85-e9ac-b3b3-c25d-33dfb357ccd8",
        "trusted": true,
        "id": "qvdGjd3hRkpO",
        "colab_type": "code",
        "colab": {}
      },
      "source": [
        "import pandas as pd\n",
        "import numpy as np\n",
        "\n",
        "import matplotlib.pyplot as plt\n",
        "import seaborn as sns\n",
        "\n",
        "sns.set(style=\"whitegrid\")\n",
        "sns.set_color_codes(\"pastel\")\n",
        "%matplotlib inline"
      ],
      "execution_count": 0,
      "outputs": []
    },
    {
      "cell_type": "code",
      "metadata": {
        "_cell_guid": "0a511c08-334d-d4bf-84c1-b4f3ac53b21e",
        "trusted": true,
        "id": "zCZVjeLeRkpT",
        "colab_type": "code",
        "colab": {}
      },
      "source": [
        "# 현재 개발환경 : kaggle kernel\n",
        "# We will use only student-por.csv\n",
        "data = pd.read_csv('../input/student-por.csv')"
      ],
      "execution_count": 0,
      "outputs": []
    },
    {
      "cell_type": "markdown",
      "metadata": {
        "_cell_guid": "d2034be1-8579-d4b9-9b18-b7bf2c6fc651",
        "id": "MCo7GSHCRkpX",
        "colab_type": "text"
      },
      "source": [
        "# Data Overview"
      ]
    },
    {
      "cell_type": "code",
      "metadata": {
        "_cell_guid": "59eb5f69-14c4-8fda-9831-2173747d8d45",
        "trusted": true,
        "id": "WaIMR9ARRkpY",
        "colab_type": "code",
        "outputId": "365796f4-cd1c-4bb6-9440-5bc58043d4cb",
        "colab": {}
      },
      "source": [
        "data.head(5)"
      ],
      "execution_count": 0,
      "outputs": [
        {
          "output_type": "execute_result",
          "data": {
            "text/plain": [
              "  school sex  age address famsize Pstatus  Medu  Fedu     Mjob      Fjob  ...  \\\n",
              "0     GP   F   18       U     GT3       A     4     4  at_home   teacher  ...   \n",
              "1     GP   F   17       U     GT3       T     1     1  at_home     other  ...   \n",
              "2     GP   F   15       U     LE3       T     1     1  at_home     other  ...   \n",
              "3     GP   F   15       U     GT3       T     4     2   health  services  ...   \n",
              "4     GP   F   16       U     GT3       T     3     3    other     other  ...   \n",
              "\n",
              "  famrel freetime  goout  Dalc  Walc health absences  G1  G2  G3  \n",
              "0      4        3      4     1     1      3        4   0  11  11  \n",
              "1      5        3      3     1     1      3        2   9  11  11  \n",
              "2      4        3      2     2     3      3        6  12  13  12  \n",
              "3      3        2      2     1     1      5        0  14  14  14  \n",
              "4      4        3      2     1     2      5        0  11  13  13  \n",
              "\n",
              "[5 rows x 33 columns]"
            ],
            "text/html": [
              "<div>\n",
              "<style scoped>\n",
              "    .dataframe tbody tr th:only-of-type {\n",
              "        vertical-align: middle;\n",
              "    }\n",
              "\n",
              "    .dataframe tbody tr th {\n",
              "        vertical-align: top;\n",
              "    }\n",
              "\n",
              "    .dataframe thead th {\n",
              "        text-align: right;\n",
              "    }\n",
              "</style>\n",
              "<table border=\"1\" class=\"dataframe\">\n",
              "  <thead>\n",
              "    <tr style=\"text-align: right;\">\n",
              "      <th></th>\n",
              "      <th>school</th>\n",
              "      <th>sex</th>\n",
              "      <th>age</th>\n",
              "      <th>address</th>\n",
              "      <th>famsize</th>\n",
              "      <th>Pstatus</th>\n",
              "      <th>Medu</th>\n",
              "      <th>Fedu</th>\n",
              "      <th>Mjob</th>\n",
              "      <th>Fjob</th>\n",
              "      <th>...</th>\n",
              "      <th>famrel</th>\n",
              "      <th>freetime</th>\n",
              "      <th>goout</th>\n",
              "      <th>Dalc</th>\n",
              "      <th>Walc</th>\n",
              "      <th>health</th>\n",
              "      <th>absences</th>\n",
              "      <th>G1</th>\n",
              "      <th>G2</th>\n",
              "      <th>G3</th>\n",
              "    </tr>\n",
              "  </thead>\n",
              "  <tbody>\n",
              "    <tr>\n",
              "      <th>0</th>\n",
              "      <td>GP</td>\n",
              "      <td>F</td>\n",
              "      <td>18</td>\n",
              "      <td>U</td>\n",
              "      <td>GT3</td>\n",
              "      <td>A</td>\n",
              "      <td>4</td>\n",
              "      <td>4</td>\n",
              "      <td>at_home</td>\n",
              "      <td>teacher</td>\n",
              "      <td>...</td>\n",
              "      <td>4</td>\n",
              "      <td>3</td>\n",
              "      <td>4</td>\n",
              "      <td>1</td>\n",
              "      <td>1</td>\n",
              "      <td>3</td>\n",
              "      <td>4</td>\n",
              "      <td>0</td>\n",
              "      <td>11</td>\n",
              "      <td>11</td>\n",
              "    </tr>\n",
              "    <tr>\n",
              "      <th>1</th>\n",
              "      <td>GP</td>\n",
              "      <td>F</td>\n",
              "      <td>17</td>\n",
              "      <td>U</td>\n",
              "      <td>GT3</td>\n",
              "      <td>T</td>\n",
              "      <td>1</td>\n",
              "      <td>1</td>\n",
              "      <td>at_home</td>\n",
              "      <td>other</td>\n",
              "      <td>...</td>\n",
              "      <td>5</td>\n",
              "      <td>3</td>\n",
              "      <td>3</td>\n",
              "      <td>1</td>\n",
              "      <td>1</td>\n",
              "      <td>3</td>\n",
              "      <td>2</td>\n",
              "      <td>9</td>\n",
              "      <td>11</td>\n",
              "      <td>11</td>\n",
              "    </tr>\n",
              "    <tr>\n",
              "      <th>2</th>\n",
              "      <td>GP</td>\n",
              "      <td>F</td>\n",
              "      <td>15</td>\n",
              "      <td>U</td>\n",
              "      <td>LE3</td>\n",
              "      <td>T</td>\n",
              "      <td>1</td>\n",
              "      <td>1</td>\n",
              "      <td>at_home</td>\n",
              "      <td>other</td>\n",
              "      <td>...</td>\n",
              "      <td>4</td>\n",
              "      <td>3</td>\n",
              "      <td>2</td>\n",
              "      <td>2</td>\n",
              "      <td>3</td>\n",
              "      <td>3</td>\n",
              "      <td>6</td>\n",
              "      <td>12</td>\n",
              "      <td>13</td>\n",
              "      <td>12</td>\n",
              "    </tr>\n",
              "    <tr>\n",
              "      <th>3</th>\n",
              "      <td>GP</td>\n",
              "      <td>F</td>\n",
              "      <td>15</td>\n",
              "      <td>U</td>\n",
              "      <td>GT3</td>\n",
              "      <td>T</td>\n",
              "      <td>4</td>\n",
              "      <td>2</td>\n",
              "      <td>health</td>\n",
              "      <td>services</td>\n",
              "      <td>...</td>\n",
              "      <td>3</td>\n",
              "      <td>2</td>\n",
              "      <td>2</td>\n",
              "      <td>1</td>\n",
              "      <td>1</td>\n",
              "      <td>5</td>\n",
              "      <td>0</td>\n",
              "      <td>14</td>\n",
              "      <td>14</td>\n",
              "      <td>14</td>\n",
              "    </tr>\n",
              "    <tr>\n",
              "      <th>4</th>\n",
              "      <td>GP</td>\n",
              "      <td>F</td>\n",
              "      <td>16</td>\n",
              "      <td>U</td>\n",
              "      <td>GT3</td>\n",
              "      <td>T</td>\n",
              "      <td>3</td>\n",
              "      <td>3</td>\n",
              "      <td>other</td>\n",
              "      <td>other</td>\n",
              "      <td>...</td>\n",
              "      <td>4</td>\n",
              "      <td>3</td>\n",
              "      <td>2</td>\n",
              "      <td>1</td>\n",
              "      <td>2</td>\n",
              "      <td>5</td>\n",
              "      <td>0</td>\n",
              "      <td>11</td>\n",
              "      <td>13</td>\n",
              "      <td>13</td>\n",
              "    </tr>\n",
              "  </tbody>\n",
              "</table>\n",
              "<p>5 rows × 33 columns</p>\n",
              "</div>"
            ]
          },
          "metadata": {
            "tags": []
          },
          "execution_count": 3
        }
      ]
    },
    {
      "cell_type": "code",
      "metadata": {
        "trusted": true,
        "id": "xKsac4dGRkpb",
        "colab_type": "code",
        "outputId": "a56a0651-4941-4ea9-c345-9819ee916c9c",
        "colab": {}
      },
      "source": [
        "print(np.shape(data))\n",
        "# (649, 33). 학생은 총 649명"
      ],
      "execution_count": 0,
      "outputs": [
        {
          "output_type": "stream",
          "text": [
            "(649, 33)\n"
          ],
          "name": "stdout"
        }
      ]
    },
    {
      "cell_type": "code",
      "metadata": {
        "_cell_guid": "abe61152-23b7-52d0-8b33-8b186e517f5c",
        "trusted": true,
        "id": "-L23MCCqRkpd",
        "colab_type": "code",
        "outputId": "9ae83420-f13d-4f3f-c503-2fb6b2a5ef00",
        "colab": {}
      },
      "source": [
        "data.info()"
      ],
      "execution_count": 0,
      "outputs": [
        {
          "output_type": "stream",
          "text": [
            "<class 'pandas.core.frame.DataFrame'>\n",
            "RangeIndex: 649 entries, 0 to 648\n",
            "Data columns (total 33 columns):\n",
            "school        649 non-null object\n",
            "sex           649 non-null object\n",
            "age           649 non-null int64\n",
            "address       649 non-null object\n",
            "famsize       649 non-null object\n",
            "Pstatus       649 non-null object\n",
            "Medu          649 non-null int64\n",
            "Fedu          649 non-null int64\n",
            "Mjob          649 non-null object\n",
            "Fjob          649 non-null object\n",
            "reason        649 non-null object\n",
            "guardian      649 non-null object\n",
            "traveltime    649 non-null int64\n",
            "studytime     649 non-null int64\n",
            "failures      649 non-null int64\n",
            "schoolsup     649 non-null object\n",
            "famsup        649 non-null object\n",
            "paid          649 non-null object\n",
            "activities    649 non-null object\n",
            "nursery       649 non-null object\n",
            "higher        649 non-null object\n",
            "internet      649 non-null object\n",
            "romantic      649 non-null object\n",
            "famrel        649 non-null int64\n",
            "freetime      649 non-null int64\n",
            "goout         649 non-null int64\n",
            "Dalc          649 non-null int64\n",
            "Walc          649 non-null int64\n",
            "health        649 non-null int64\n",
            "absences      649 non-null int64\n",
            "G1            649 non-null int64\n",
            "G2            649 non-null int64\n",
            "G3            649 non-null int64\n",
            "dtypes: int64(16), object(17)\n",
            "memory usage: 167.4+ KB\n"
          ],
          "name": "stdout"
        }
      ]
    },
    {
      "cell_type": "markdown",
      "metadata": {
        "_cell_guid": "53fc3115-7d2e-0eb5-6ead-5fbd5120473a",
        "id": "y7vDU_T3Rkpf",
        "colab_type": "text"
      },
      "source": [
        "# Visualizations"
      ]
    },
    {
      "cell_type": "markdown",
      "metadata": {
        "_cell_guid": "fb96b9d3-8775-35ba-fe16-b4f7b9c22fb1",
        "id": "Zq4pA7HwRkpg",
        "colab_type": "text"
      },
      "source": [
        "## Sex"
      ]
    },
    {
      "cell_type": "code",
      "metadata": {
        "_cell_guid": "74f8d40e-415f-9e29-03ca-aa1e75714c11",
        "trusted": true,
        "id": "n23dypeqRkpg",
        "colab_type": "code",
        "outputId": "c92f6036-45c0-42c1-ad34-3eaaab8d112a",
        "colab": {}
      },
      "source": [
        "f, ax = plt.subplots(figsize=(4, 4))\n",
        "plt.pie(data['sex'].value_counts().tolist(), \n",
        "        labels=['Female', 'Male'], colors=['#ffd1df', '#a2cffe'], \n",
        "        autopct='%1.1f%%', startangle=90)\n",
        "axis = plt.axis('equal')"
      ],
      "execution_count": 0,
      "outputs": [
        {
          "output_type": "display_data",
          "data": {
            "text/plain": [
              "<Figure size 288x288 with 1 Axes>"
            ],
            "image/png": "[encoded data removed]"
          },
          "metadata": {
            "tags": []
          }
        }
      ]
    },
    {
      "cell_type": "markdown",
      "metadata": {
        "id": "BbrhO8L-Rkpi",
        "colab_type": "text"
      },
      "source": [
        "성비는 남자 59%, 여자 41% 다."
      ]
    },
    {
      "cell_type": "markdown",
      "metadata": {
        "_cell_guid": "fe453992-94f6-ae3b-b1fd-63027e71729f",
        "id": "gwUToqZ3Rkpj",
        "colab_type": "text"
      },
      "source": [
        "## Age"
      ]
    },
    {
      "cell_type": "code",
      "metadata": {
        "trusted": true,
        "id": "LOhiqeLERkpk",
        "colab_type": "code",
        "outputId": "0ffcc18c-9abc-4c9c-a3d4-d38e469469bd",
        "colab": {}
      },
      "source": [
        "fig, ax = plt.subplots(figsize=(5, 4))\n",
        "sns.distplot(data['age'],  \n",
        "             hist_kws={\"alpha\": 1, \"color\": \"#a2cffe\"}, \n",
        "             kde=False, bins=8)\n",
        "ax = ax.set(ylabel=\"Count\", xlabel=\"Age\")"
      ],
      "execution_count": 0,
      "outputs": [
        {
          "output_type": "display_data",
          "data": {
            "text/plain": [
              "<Figure size 360x288 with 1 Axes>"
            ],
            "image/png": "[encoded data removed]"
          },
          "metadata": {
            "tags": [],
            "needs_background": "light"
          }
        }
      ]
    },
    {
      "cell_type": "markdown",
      "metadata": {
        "id": "I4nNLyxsRkpm",
        "colab_type": "text"
      },
      "source": [
        "연령대는 90%이상이 10대이며 주요 연령층은 16살과 17살이다."
      ]
    },
    {
      "cell_type": "markdown",
      "metadata": {
        "_cell_guid": "7febeef3-e6b0-a18a-5705-7ee3876c1965",
        "id": "jtvEqsGHRkpm",
        "colab_type": "text"
      },
      "source": [
        "## Weekly study time"
      ]
    },
    {
      "cell_type": "code",
      "metadata": {
        "_cell_guid": "12f1d266-9efa-4bd9-a3c1-48ea880080be",
        "trusted": true,
        "id": "KK1NTGjwRkpn",
        "colab_type": "code",
        "outputId": "bad5bd00-b4a7-4143-ade5-50503f074a57",
        "colab": {}
      },
      "source": [
        "f, ax = plt.subplots(figsize=(4, 4))\n",
        "plt.pie(data['studytime'].value_counts().tolist(), \n",
        "        labels=['2 to 5 hours', '<2 hours', '5 to 10 hours', '>10 hours'], \n",
        "        autopct='%1.1f%%', startangle=0)\n",
        "axis = plt.axis('equal')"
      ],
      "execution_count": 0,
      "outputs": [
        {
          "output_type": "display_data",
          "data": {
            "text/plain": [
              "<Figure size 288x288 with 1 Axes>"
            ],
            "image/png": "[encoded data removed]"
          },
          "metadata": {
            "tags": []
          }
        }
      ]
    },
    {
      "cell_type": "markdown",
      "metadata": {
        "id": "JmHeWccaRkpp",
        "colab_type": "text"
      },
      "source": [
        "학습시간은 2시간 ~ 5시간이 47%로 기록, 그 다음 2시간 미만 공부가 32.7% 기록"
      ]
    },
    {
      "cell_type": "markdown",
      "metadata": {
        "_cell_guid": "a0732dfe-165e-3c44-319c-bb7bf890fe9b",
        "id": "fofu8cBfRkpq",
        "colab_type": "text"
      },
      "source": [
        "## Romantic Relationship"
      ]
    },
    {
      "cell_type": "code",
      "metadata": {
        "_cell_guid": "048c1de0-e55c-6e2f-09db-1263e9fbac76",
        "trusted": true,
        "id": "2ovMiRQtRkpq",
        "colab_type": "code",
        "outputId": "afcf1bf7-13df-4f1a-be69-9adfbe550d2d",
        "colab": {}
      },
      "source": [
        "f, ax = plt.subplots(figsize=(4, 4))\n",
        "plt.pie(data['romantic'].value_counts().tolist(), \n",
        "        labels=['No', 'Yes'], autopct='%1.1f%%', startangle=90)\n",
        "axis = plt.axis('equal')"
      ],
      "execution_count": 0,
      "outputs": [
        {
          "output_type": "display_data",
          "data": {
            "text/plain": [
              "<Figure size 288x288 with 1 Axes>"
            ],
            "image/png": "[encoded data removed]"
          },
          "metadata": {
            "tags": []
          }
        }
      ]
    },
    {
      "cell_type": "markdown",
      "metadata": {
        "id": "W9I88YDIRkpt",
        "colab_type": "text"
      },
      "source": [
        "연애는 36.8%만 하고 있다."
      ]
    },
    {
      "cell_type": "markdown",
      "metadata": {
        "_cell_guid": "21ae96ef-7925-4a81-1f1d-54d4ed018ec3",
        "id": "oSSoLSstRkpt",
        "colab_type": "text"
      },
      "source": [
        "## Alcohol Consumption and other features"
      ]
    },
    {
      "cell_type": "markdown",
      "metadata": {
        "_cell_guid": "479e01dd-8cf4-ec07-f225-3c7f7b01bfa3",
        "id": "UlIl1Qm_Rkpu",
        "colab_type": "text"
      },
      "source": [
        "알콜 소비량과 건강에 대한 지수의 속성을 아래와 같다.\n",
        "\n",
        "* Workday alcohol consumption: number from 1 (very low) to 5 (very high)<br/>\n",
        "* Weekend alcohol consumption: number from 1 (very low) to 5 (very high)<br/>\n",
        "* Health - current health status: number from 1 (very bad) to 5 (very good) "
      ]
    },
    {
      "cell_type": "markdown",
      "metadata": {
        "_cell_guid": "045c82bd-1807-a6ec-a0ee-a15f8a04ec51",
        "id": "cy7fcaJZRkpv",
        "colab_type": "text"
      },
      "source": [
        "### Weekend Alcohol Consumption Distribution"
      ]
    },
    {
      "cell_type": "code",
      "metadata": {
        "_cell_guid": "13c4ca70-7f54-beb5-55ad-1acd1dced7ec",
        "trusted": true,
        "id": "JGSEYJWnRkpv",
        "colab_type": "code",
        "outputId": "23b5b46e-114e-4ff5-a479-50a2832dbd33",
        "colab": {}
      },
      "source": [
        "fig, ax = plt.subplots(figsize=(5, 5))\n",
        "sns.distplot(data['Walc'],  \n",
        "             hist_kws={\"alpha\": 1, \"color\": \"#a2cffe\"}, \n",
        "             kde=False, bins=4)\n",
        "ax = ax.set(ylabel=\"Students\", xlabel=\"Weekend Alcohol Consumption\")"
      ],
      "execution_count": 0,
      "outputs": [
        {
          "output_type": "display_data",
          "data": {
            "text/plain": [
              "<Figure size 360x360 with 1 Axes>"
            ],
            "image/png": "[encoded data removed]"
          },
          "metadata": {
            "tags": [],
            "needs_background": "light"
          }
        }
      ]
    },
    {
      "cell_type": "markdown",
      "metadata": {
        "_cell_guid": "d4cc7efb-9790-c96c-450f-21709eaa1bb6",
        "id": "z9o0KZZcRkpx",
        "colab_type": "text"
      },
      "source": [
        "### Alcohol Consumption and Health"
      ]
    },
    {
      "cell_type": "code",
      "metadata": {
        "_cell_guid": "8ce3221a-65f5-e9bb-751f-b57c78ac6492",
        "trusted": true,
        "id": "v6YxJN9FRkpy",
        "colab_type": "code",
        "outputId": "e1215613-a2ea-4006-8841-e4b10b35bbb3",
        "colab": {}
      },
      "source": [
        "plot1 = sns.factorplot(x=\"Walc\", y=\"health\", hue=\"sex\", data=data)\n",
        "plot1.set(ylabel=\"Health\", xlabel=\"Weekend Alcohol Consumption\")\n",
        "\n",
        "plot2 = sns.factorplot(x=\"Dalc\", y=\"health\", hue=\"sex\", data=data)\n",
        "plot2.set(ylabel=\"Health\", xlabel=\"Workday Alcohol Consumption\")"
      ],
      "execution_count": 0,
      "outputs": [
        {
          "output_type": "stream",
          "text": [
            "/opt/conda/lib/python3.6/site-packages/seaborn/categorical.py:3666: UserWarning: The `factorplot` function has been renamed to `catplot`. The original name will be removed in a future release. Please update your code. Note that the default `kind` in `factorplot` (`'point'`) has changed `'strip'` in `catplot`.\n",
            "  warnings.warn(msg)\n"
          ],
          "name": "stderr"
        },
        {
          "output_type": "execute_result",
          "data": {
            "text/plain": [
              "<seaborn.axisgrid.FacetGrid at 0x7fb1d16c5c50>"
            ]
          },
          "metadata": {
            "tags": []
          },
          "execution_count": 11
        },
        {
          "output_type": "display_data",
          "data": {
            "text/plain": [
              "<Figure size 409.1x360 with 1 Axes>"
            ],
            "image/png": "[encoded data removed]"
          },
          "metadata": {
            "tags": [],
            "needs_background": "light"
          }
        },
        {
          "output_type": "display_data",
          "data": {
            "text/plain": [
              "<Figure size 409.1x360 with 1 Axes>"
            ],
            "image/png": "[encoded data removed]"
          },
          "metadata": {
            "tags": [],
            "needs_background": "light"
          }
        }
      ]
    },
    {
      "cell_type": "markdown",
      "metadata": {
        "id": "UKsCdLAERkp0",
        "colab_type": "text"
      },
      "source": [
        "알콜소비량이 많으면 건강이 나쁠 것 같다는 일반적인 상식과 다르게 건강할수록 알콜소비량이 많았다. 이런 경향은 5단계의 여성에게 두드러졌다"
      ]
    },
    {
      "cell_type": "markdown",
      "metadata": {
        "_cell_guid": "d3feebe6-f7d2-f3b5-b94f-e9451f73f1ef",
        "id": "RA1qdhmERkp1",
        "colab_type": "text"
      },
      "source": [
        "### Alcohol Consumption and Final Grade\n",
        "\n",
        "성적에 대한 지수는 아래와 같다.\n",
        "\n",
        "* Final grade: number from 0 to 20."
      ]
    },
    {
      "cell_type": "code",
      "metadata": {
        "_cell_guid": "a8e55cea-c0d0-540b-40cb-5600f75902dc",
        "trusted": true,
        "id": "c8YbvFh-Rkp1",
        "colab_type": "code",
        "outputId": "b4603df2-ee82-418b-d8b3-3d2521c6918a",
        "colab": {}
      },
      "source": [
        "plot1 = sns.factorplot(x=\"G3\", y=\"Walc\", data=data)\n",
        "plot1.set(ylabel=\"Weekend Alcohol Consumption\", xlabel=\"Final Grade\")\n",
        "\n",
        "plot2 = sns.factorplot(x=\"G3\", y=\"Dalc\", data=data)\n",
        "plot2.set(ylabel=\"Workday Alcohol Consumption\", xlabel=\"Final Grade\")"
      ],
      "execution_count": 0,
      "outputs": [
        {
          "output_type": "execute_result",
          "data": {
            "text/plain": [
              "<seaborn.axisgrid.FacetGrid at 0x7fb1d12f0e80>"
            ]
          },
          "metadata": {
            "tags": []
          },
          "execution_count": 12
        },
        {
          "output_type": "display_data",
          "data": {
            "text/plain": [
              "<Figure size 360x360 with 1 Axes>"
            ],
            "image/png": "[encoded data removed]"
          },
          "metadata": {
            "tags": [],
            "needs_background": "light"
          }
        },
        {
          "output_type": "display_data",
          "data": {
            "text/plain": [
              "<Figure size 360x360 with 1 Axes>"
            ],
            "image/png": "[encoded data removed]"
          },
          "metadata": {
            "tags": [],
            "needs_background": "light"
          }
        }
      ]
    },
    {
      "cell_type": "markdown",
      "metadata": {
        "id": "CgAiimNiRkp3",
        "colab_type": "text"
      },
      "source": [
        "참조한 원문은 틀려서 새로 고침.\n",
        "\n",
        "Workday Alchol Consumption과 Weekend Alchol Consumption은 모두 성적이 높을수록 알콜을 적게 섭취한다."
      ]
    },
    {
      "cell_type": "code",
      "metadata": {
        "trusted": true,
        "id": "stEYyE-iRkp4",
        "colab_type": "code",
        "outputId": "a76d967b-c691-41e3-d7cd-4bb0a5920e81",
        "colab": {}
      },
      "source": [
        "plot1 = sns.factorplot(x=\"Walc\", y=\"G3\", data=data)\n",
        "plot1.set(ylabel=\"Final Grade\", xlabel=\"Weekend Alcohol Consumption\") \n",
        "\n",
        "plot2 = sns.factorplot(x=\"Dalc\", y=\"G3\", data=data)\n",
        "plot2.set(ylabel=\"Final Grade\", xlabel=\"Workday Alcohol Consumption\")"
      ],
      "execution_count": 0,
      "outputs": [
        {
          "output_type": "execute_result",
          "data": {
            "text/plain": [
              "<seaborn.axisgrid.FacetGrid at 0x7fb1d1461b70>"
            ]
          },
          "metadata": {
            "tags": []
          },
          "execution_count": 13
        },
        {
          "output_type": "display_data",
          "data": {
            "text/plain": [
              "<Figure size 360x360 with 1 Axes>"
            ],
            "image/png": "[encoded data removed]"
          },
          "metadata": {
            "tags": [],
            "needs_background": "light"
          }
        },
        {
          "output_type": "display_data",
          "data": {
            "text/plain": [
              "<Figure size 360x360 with 1 Axes>"
            ],
            "image/png": "[encoded data removed]"
          },
          "metadata": {
            "tags": [],
            "needs_background": "light"
          }
        }
      ]
    },
    {
      "cell_type": "markdown",
      "metadata": {
        "id": "CCx1sys5Rkp6",
        "colab_type": "text"
      },
      "source": [
        "X값과 Y값을 반대로 바꾸어보면 의도했던 인과관계가 더 명확하게 보인다.\n",
        "\n",
        "* 알콜 소비량이 클수록 특히 Weekend Alchol Consumption이 많을수록 성적은 떨어진다."
      ]
    },
    {
      "cell_type": "markdown",
      "metadata": {
        "_cell_guid": "0e9fb698-c819-074d-26ee-7a6afe00ad62",
        "id": "hGzpKGcXRkp6",
        "colab_type": "text"
      },
      "source": [
        "# Final Grade Prediction"
      ]
    },
    {
      "cell_type": "markdown",
      "metadata": {
        "_cell_guid": "5730e570-9a3d-925c-c6fd-f96e44ac69a7",
        "id": "43py5quYRkp7",
        "colab_type": "text"
      },
      "source": [
        "이제 4개의 regression 모델을 사용해서 final grade를 예측하는 실험을 할 것이다.\n",
        "\n",
        "* Algorithm : decision tree regression, linear regression, lasso and ridge regression.\n",
        "* G1 - first period grade (numeric: from 0 to 20)\n",
        "* G2 - second period grade (numeric: from 0 to 20)\n",
        "* G3 - final grade (numeric: from 0 to 20, output target)"
      ]
    },
    {
      "cell_type": "markdown",
      "metadata": {
        "_cell_guid": "9d8e5350-8caa-ab7d-834c-bbaf3e30c2b1",
        "id": "yIhJGtRQRkp7",
        "colab_type": "text"
      },
      "source": [
        "## With G1 and G2 features"
      ]
    },
    {
      "cell_type": "code",
      "metadata": {
        "_cell_guid": "35d7b6ae-6a83-d93d-0fa3-8502b8f9bee0",
        "trusted": true,
        "id": "lq12FPjaRkp8",
        "colab_type": "code",
        "colab": {}
      },
      "source": [
        "from sklearn.tree import DecisionTreeRegressor\n",
        "from sklearn.linear_model import LinearRegression, Lasso\n",
        "from sklearn.linear_model import Ridge\n",
        "from sklearn.model_selection import train_test_split\n",
        "from sklearn.model_selection import cross_val_score"
      ],
      "execution_count": 0,
      "outputs": []
    },
    {
      "cell_type": "code",
      "metadata": {
        "_cell_guid": "03e74d0f-a241-a724-8b95-215bf4369d90",
        "trusted": true,
        "id": "GZT0zD_TRkp9",
        "colab_type": "code",
        "colab": {}
      },
      "source": [
        "y = data['G3']\n",
        "X = data.drop(['G3'], axis=1)"
      ],
      "execution_count": 0,
      "outputs": []
    },
    {
      "cell_type": "code",
      "metadata": {
        "_cell_guid": "6b494c8c-43ca-b815-add9-7f5dfe2a6b41",
        "trusted": true,
        "id": "yTUYotkIRkqB",
        "colab_type": "code",
        "colab": {}
      },
      "source": [
        "X = pd.get_dummies(X)"
      ],
      "execution_count": 0,
      "outputs": []
    },
    {
      "cell_type": "code",
      "metadata": {
        "trusted": true,
        "id": "ZoCa8e58RkqD",
        "colab_type": "code",
        "colab": {}
      },
      "source": [
        "X_train, X_test, y_train, y_test = train_test_split(X, y, test_size=0.33, random_state=42)"
      ],
      "execution_count": 0,
      "outputs": []
    },
    {
      "cell_type": "code",
      "metadata": {
        "trusted": true,
        "id": "aqKY9XKHRkqF",
        "colab_type": "code",
        "outputId": "f347ce4b-c43b-4877-d4f7-0c70e2050b52",
        "colab": {}
      },
      "source": [
        "X_train.head()"
      ],
      "execution_count": 0,
      "outputs": [
        {
          "output_type": "execute_result",
          "data": {
            "text/plain": [
              "     age  Medu  Fedu  traveltime  studytime  failures  famrel  freetime  \\\n",
              "521   16     2     3           2          2         0       3         3   \n",
              "178   17     1     1           4          2         0       5         3   \n",
              "260   16     1     2           1          1         0       5         3   \n",
              "153   15     4     4           1          3         0       4         2   \n",
              "75    15     4     3           1          2         0       4         3   \n",
              "\n",
              "     goout  Dalc  ...  activities_no  activities_yes  nursery_no  nursery_yes  \\\n",
              "521      3     1  ...              0               1           0            1   \n",
              "178      5     1  ...              0               1           0            1   \n",
              "260      5     1  ...              1               0           0            1   \n",
              "153      2     1  ...              0               1           0            1   \n",
              "75       3     2  ...              0               1           0            1   \n",
              "\n",
              "     higher_no  higher_yes  internet_no  internet_yes  romantic_no  \\\n",
              "521          0           1            0             1            1   \n",
              "178          1           0            1             0            0   \n",
              "260          1           0            0             1            1   \n",
              "153          0           1            0             1            1   \n",
              "75           0           1            0             1            1   \n",
              "\n",
              "     romantic_yes  \n",
              "521             0  \n",
              "178             1  \n",
              "260             0  \n",
              "153             0  \n",
              "75              0  \n",
              "\n",
              "[5 rows x 58 columns]"
            ],
            "text/html": [
              "<div>\n",
              "<style scoped>\n",
              "    .dataframe tbody tr th:only-of-type {\n",
              "        vertical-align: middle;\n",
              "    }\n",
              "\n",
              "    .dataframe tbody tr th {\n",
              "        vertical-align: top;\n",
              "    }\n",
              "\n",
              "    .dataframe thead th {\n",
              "        text-align: right;\n",
              "    }\n",
              "</style>\n",
              "<table border=\"1\" class=\"dataframe\">\n",
              "  <thead>\n",
              "    <tr style=\"text-align: right;\">\n",
              "      <th></th>\n",
              "      <th>age</th>\n",
              "      <th>Medu</th>\n",
              "      <th>Fedu</th>\n",
              "      <th>traveltime</th>\n",
              "      <th>studytime</th>\n",
              "      <th>failures</th>\n",
              "      <th>famrel</th>\n",
              "      <th>freetime</th>\n",
              "      <th>goout</th>\n",
              "      <th>Dalc</th>\n",
              "      <th>...</th>\n",
              "      <th>activities_no</th>\n",
              "      <th>activities_yes</th>\n",
              "      <th>nursery_no</th>\n",
              "      <th>nursery_yes</th>\n",
              "      <th>higher_no</th>\n",
              "      <th>higher_yes</th>\n",
              "      <th>internet_no</th>\n",
              "      <th>internet_yes</th>\n",
              "      <th>romantic_no</th>\n",
              "      <th>romantic_yes</th>\n",
              "    </tr>\n",
              "  </thead>\n",
              "  <tbody>\n",
              "    <tr>\n",
              "      <th>521</th>\n",
              "      <td>16</td>\n",
              "      <td>2</td>\n",
              "      <td>3</td>\n",
              "      <td>2</td>\n",
              "      <td>2</td>\n",
              "      <td>0</td>\n",
              "      <td>3</td>\n",
              "      <td>3</td>\n",
              "      <td>3</td>\n",
              "      <td>1</td>\n",
              "      <td>...</td>\n",
              "      <td>0</td>\n",
              "      <td>1</td>\n",
              "      <td>0</td>\n",
              "      <td>1</td>\n",
              "      <td>0</td>\n",
              "      <td>1</td>\n",
              "      <td>0</td>\n",
              "      <td>1</td>\n",
              "      <td>1</td>\n",
              "      <td>0</td>\n",
              "    </tr>\n",
              "    <tr>\n",
              "      <th>178</th>\n",
              "      <td>17</td>\n",
              "      <td>1</td>\n",
              "      <td>1</td>\n",
              "      <td>4</td>\n",
              "      <td>2</td>\n",
              "      <td>0</td>\n",
              "      <td>5</td>\n",
              "      <td>3</td>\n",
              "      <td>5</td>\n",
              "      <td>1</td>\n",
              "      <td>...</td>\n",
              "      <td>0</td>\n",
              "      <td>1</td>\n",
              "      <td>0</td>\n",
              "      <td>1</td>\n",
              "      <td>1</td>\n",
              "      <td>0</td>\n",
              "      <td>1</td>\n",
              "      <td>0</td>\n",
              "      <td>0</td>\n",
              "      <td>1</td>\n",
              "    </tr>\n",
              "    <tr>\n",
              "      <th>260</th>\n",
              "      <td>16</td>\n",
              "      <td>1</td>\n",
              "      <td>2</td>\n",
              "      <td>1</td>\n",
              "      <td>1</td>\n",
              "      <td>0</td>\n",
              "      <td>5</td>\n",
              "      <td>3</td>\n",
              "      <td>5</td>\n",
              "      <td>1</td>\n",
              "      <td>...</td>\n",
              "      <td>1</td>\n",
              "      <td>0</td>\n",
              "      <td>0</td>\n",
              "      <td>1</td>\n",
              "      <td>1</td>\n",
              "      <td>0</td>\n",
              "      <td>0</td>\n",
              "      <td>1</td>\n",
              "      <td>1</td>\n",
              "      <td>0</td>\n",
              "    </tr>\n",
              "    <tr>\n",
              "      <th>153</th>\n",
              "      <td>15</td>\n",
              "      <td>4</td>\n",
              "      <td>4</td>\n",
              "      <td>1</td>\n",
              "      <td>3</td>\n",
              "      <td>0</td>\n",
              "      <td>4</td>\n",
              "      <td>2</td>\n",
              "      <td>2</td>\n",
              "      <td>1</td>\n",
              "      <td>...</td>\n",
              "      <td>0</td>\n",
              "      <td>1</td>\n",
              "      <td>0</td>\n",
              "      <td>1</td>\n",
              "      <td>0</td>\n",
              "      <td>1</td>\n",
              "      <td>0</td>\n",
              "      <td>1</td>\n",
              "      <td>1</td>\n",
              "      <td>0</td>\n",
              "    </tr>\n",
              "    <tr>\n",
              "      <th>75</th>\n",
              "      <td>15</td>\n",
              "      <td>4</td>\n",
              "      <td>3</td>\n",
              "      <td>1</td>\n",
              "      <td>2</td>\n",
              "      <td>0</td>\n",
              "      <td>4</td>\n",
              "      <td>3</td>\n",
              "      <td>3</td>\n",
              "      <td>2</td>\n",
              "      <td>...</td>\n",
              "      <td>0</td>\n",
              "      <td>1</td>\n",
              "      <td>0</td>\n",
              "      <td>1</td>\n",
              "      <td>0</td>\n",
              "      <td>1</td>\n",
              "      <td>0</td>\n",
              "      <td>1</td>\n",
              "      <td>1</td>\n",
              "      <td>0</td>\n",
              "    </tr>\n",
              "  </tbody>\n",
              "</table>\n",
              "<p>5 rows × 58 columns</p>\n",
              "</div>"
            ]
          },
          "metadata": {
            "tags": []
          },
          "execution_count": 18
        }
      ]
    },
    {
      "cell_type": "code",
      "metadata": {
        "trusted": true,
        "id": "FiolMjw3RkqH",
        "colab_type": "code",
        "outputId": "c1bd049d-c5c6-4538-d007-8124a8bb37dd",
        "colab": {}
      },
      "source": [
        "y_train.head()"
      ],
      "execution_count": 0,
      "outputs": [
        {
          "output_type": "execute_result",
          "data": {
            "text/plain": [
              "521    10\n",
              "178     8\n",
              "260    11\n",
              "153    13\n",
              "75     11\n",
              "Name: G3, dtype: int64"
            ]
          },
          "metadata": {
            "tags": []
          },
          "execution_count": 19
        }
      ]
    },
    {
      "cell_type": "markdown",
      "metadata": {
        "id": "Y9WDftH5RkqJ",
        "colab_type": "text"
      },
      "source": [
        "### Modeling"
      ]
    },
    {
      "cell_type": "code",
      "metadata": {
        "trusted": true,
        "id": "hBXVU3Y4RkqK",
        "colab_type": "code",
        "outputId": "6be63d92-8182-405d-995f-4fd9396970a6",
        "colab": {}
      },
      "source": [
        "tree = DecisionTreeRegressor(random_state=0)\n",
        "tree.fit(X_train, y_train)\n",
        "#cross_val_score(tree, X_train, y_train, cv=5)\n",
        "print(\"DecisionTreeRegressor 훈련 세트 정확도: {:.3f}\".format(tree.score(X_train, y_train)))\n",
        "print(\"DecisionTreeRegressor 테스트 세트 정확도: {:.3f}\".format(tree.score(X_test, y_test)))"
      ],
      "execution_count": 0,
      "outputs": [
        {
          "output_type": "stream",
          "text": [
            "DecisionTreeRegressor 훈련 세트 정확도: 1.000\n",
            "DecisionTreeRegressor 테스트 세트 정확도: 0.574\n"
          ],
          "name": "stdout"
        }
      ]
    },
    {
      "cell_type": "code",
      "metadata": {
        "trusted": true,
        "id": "6r2PVJ93RkqL",
        "colab_type": "code",
        "outputId": "d60b09ae-8a43-42b0-d23d-38ccb30d3f6f",
        "colab": {}
      },
      "source": [
        "LR = LinearRegression()\n",
        "LR.fit(X_train, y_train)\n",
        "print(\"LinearRegression 훈련 세트 정확도: {:.3f}\".format(LR.score(X_train, y_train)))\n",
        "print(\"LinearRegression 테스트 세트 정확도: {:.3f}\".format(LR.score(X_test, y_test)))"
      ],
      "execution_count": 0,
      "outputs": [
        {
          "output_type": "stream",
          "text": [
            "LinearRegression 훈련 세트 정확도: 0.848\n",
            "LinearRegression 테스트 세트 정확도: 0.865\n"
          ],
          "name": "stdout"
        }
      ]
    },
    {
      "cell_type": "code",
      "metadata": {
        "trusted": true,
        "id": "9Fjt8h2tRkqN",
        "colab_type": "code",
        "outputId": "d8821b32-8081-47e1-aa4f-8a8c01cd46c6",
        "colab": {}
      },
      "source": [
        "rg = Ridge()\n",
        "rg.fit(X_train, y_train)\n",
        "print(\"Ridge Regression 훈련 세트 정확도: {:.3f}\".format(rg.score(X_train, y_train)))\n",
        "print(\"Ridge Regression 테스트 세트 정확도: {:.3f}\".format(rg.score(X_test, y_test)))"
      ],
      "execution_count": 0,
      "outputs": [
        {
          "output_type": "stream",
          "text": [
            "Ridge Regression 훈련 세트 정확도: 0.848\n",
            "Ridge Regression 테스트 세트 정확도: 0.865\n"
          ],
          "name": "stdout"
        }
      ]
    },
    {
      "cell_type": "code",
      "metadata": {
        "trusted": true,
        "id": "x2hJczcrRkqP",
        "colab_type": "code",
        "outputId": "e1dee64d-f92f-4925-d9e5-d7fc941b1ba9",
        "colab": {}
      },
      "source": [
        "ls = Lasso()\n",
        "ls.fit(X_train, y_train)\n",
        "print(\"Lasso Regression 훈련 세트 정확도: {:.3f}\".format(ls.score(X_train, y_train)))\n",
        "print(\"Lasso Regression 테스트 세트 정확도: {:.3f}\".format(ls.score(X_test, y_test)))"
      ],
      "execution_count": 0,
      "outputs": [
        {
          "output_type": "stream",
          "text": [
            "Lasso Regression 훈련 세트 정확도: 0.816\n",
            "Lasso Regression 테스트 세트 정확도: 0.881\n"
          ],
          "name": "stdout"
        }
      ]
    },
    {
      "cell_type": "markdown",
      "metadata": {
        "id": "hp7X3ZoLRkqR",
        "colab_type": "text"
      },
      "source": [
        "### Usage of Cross validation \n",
        "제일 성능이 좋았던 Lasso 알고리즘을 cross validation을 사용하여 검증해보자"
      ]
    },
    {
      "cell_type": "code",
      "metadata": {
        "trusted": true,
        "id": "1G-jmBjARkqR",
        "colab_type": "code",
        "outputId": "b950d12c-1a7c-4f9a-f0cb-4c8f4adf87e6",
        "colab": {}
      },
      "source": [
        "scores = cross_val_score(ls, X, y, cv=5)\n",
        "print('cross-val-score \\n{}'.format(scores))\n",
        "print('cross-val-score.mean \\n{:.3f}'.format(scores.mean()))"
      ],
      "execution_count": 0,
      "outputs": [
        {
          "output_type": "stream",
          "text": [
            "cross-val-score \n",
            "[0.83129668 0.74947796 0.84278436 0.88378169 0.7640708 ]\n",
            "cross-val-score.mean \n",
            "0.814\n"
          ],
          "name": "stdout"
        }
      ]
    },
    {
      "cell_type": "code",
      "metadata": {
        "trusted": true,
        "id": "JEMPQXOQRkqT",
        "colab_type": "code",
        "outputId": "cfbc7a25-53d6-4a97-c5a8-31927ce21105",
        "colab": {}
      },
      "source": [
        "# 클래스 비율 맞춰서 고르게 나누는 방법\n",
        "from sklearn.model_selection import StratifiedKFold\n",
        "skf = StratifiedKFold(n_splits=5)\n",
        "scores2 = cross_val_score(ls, X, y, cv=skf)\n",
        "print('cross-val-score \\n{}'.format(scores2))\n",
        "print('cross-val-score.mean \\n{:.3f}'.format(scores2.mean()))"
      ],
      "execution_count": 0,
      "outputs": [
        {
          "output_type": "stream",
          "text": [
            "cross-val-score \n",
            "[0.75827129 0.90187166 0.86045833 0.88321289 0.75913873]\n",
            "cross-val-score.mean \n",
            "0.833\n"
          ],
          "name": "stdout"
        },
        {
          "output_type": "stream",
          "text": [
            "/opt/conda/lib/python3.6/site-packages/sklearn/model_selection/_split.py:657: Warning: The least populated class in y has only 1 members, which is too few. The minimum number of members in any class cannot be less than n_splits=5.\n",
            "  % (min_groups, self.n_splits)), Warning)\n"
          ],
          "name": "stderr"
        }
      ]
    },
    {
      "cell_type": "markdown",
      "metadata": {
        "_cell_guid": "7847ea89-97f8-42b6-3095-e5a6eec8b9ce",
        "id": "I6j1g6d_RkqV",
        "colab_type": "text"
      },
      "source": [
        "## Feature Importances\n",
        "\n",
        "각각 알고리즘의 성능을 알아보았으니 이제 Feature Importance를 알아보자 "
      ]
    },
    {
      "cell_type": "code",
      "metadata": {
        "_cell_guid": "6a5e202f-d907-76da-03e1-082e20ce8497",
        "trusted": true,
        "id": "U8NJTRvARkqW",
        "colab_type": "code",
        "outputId": "94bcfa4c-4382-45de-dc7c-91840309187e",
        "colab": {}
      },
      "source": [
        "importances = tree.feature_importances_\n",
        "indices = np.argsort(importances)[::-1]\n",
        "for f in range(X.shape[1]):\n",
        "    print(\"%d. Feature %s (%f)\" % (f + 1, X.columns.values[indices[f]], importances[indices[f]]))"
      ],
      "execution_count": 0,
      "outputs": [
        {
          "output_type": "stream",
          "text": [
            "1. Feature G2 (0.823206)\n",
            "2. Feature studytime (0.022337)\n",
            "3. Feature Mjob_other (0.017840)\n",
            "4. Feature Medu (0.015771)\n",
            "5. Feature Fedu (0.014399)\n",
            "6. Feature G1 (0.012755)\n",
            "7. Feature reason_other (0.012643)\n",
            "8. Feature absences (0.012568)\n",
            "9. Feature freetime (0.011123)\n",
            "10. Feature nursery_yes (0.006492)\n",
            "11. Feature goout (0.005440)\n",
            "12. Feature famrel (0.005370)\n",
            "13. Feature traveltime (0.004749)\n",
            "14. Feature age (0.004682)\n",
            "15. Feature Walc (0.003928)\n",
            "16. Feature school_MS (0.002626)\n",
            "17. Feature Dalc (0.002380)\n",
            "18. Feature health (0.002192)\n",
            "19. Feature guardian_other (0.002077)\n",
            "20. Feature reason_reputation (0.002040)\n",
            "21. Feature romantic_yes (0.001996)\n",
            "22. Feature famsize_GT3 (0.001961)\n",
            "23. Feature sex_F (0.001420)\n",
            "24. Feature reason_home (0.001352)\n",
            "25. Feature address_U (0.001207)\n",
            "26. Feature activities_no (0.001027)\n",
            "27. Feature schoolsup_yes (0.000697)\n",
            "28. Feature Fjob_other (0.000669)\n",
            "29. Feature Fjob_at_home (0.000578)\n",
            "30. Feature famsup_yes (0.000511)\n",
            "31. Feature schoolsup_no (0.000414)\n",
            "32. Feature address_R (0.000414)\n",
            "33. Feature internet_yes (0.000409)\n",
            "34. Feature famsize_LE3 (0.000361)\n",
            "35. Feature Mjob_services (0.000340)\n",
            "36. Feature school_GP (0.000339)\n",
            "37. Feature sex_M (0.000316)\n",
            "38. Feature activities_yes (0.000300)\n",
            "39. Feature Pstatus_T (0.000208)\n",
            "40. Feature failures (0.000174)\n",
            "41. Feature guardian_father (0.000167)\n",
            "42. Feature famsup_no (0.000149)\n",
            "43. Feature reason_course (0.000149)\n",
            "44. Feature Mjob_at_home (0.000112)\n",
            "45. Feature guardian_mother (0.000112)\n",
            "46. Feature Fjob_teacher (0.000000)\n",
            "47. Feature internet_no (0.000000)\n",
            "48. Feature higher_yes (0.000000)\n",
            "49. Feature higher_no (0.000000)\n",
            "50. Feature nursery_no (0.000000)\n",
            "51. Feature Pstatus_A (0.000000)\n",
            "52. Feature Fjob_services (0.000000)\n",
            "53. Feature paid_yes (0.000000)\n",
            "54. Feature paid_no (0.000000)\n",
            "55. Feature Mjob_teacher (0.000000)\n",
            "56. Feature romantic_no (0.000000)\n",
            "57. Feature Mjob_health (0.000000)\n",
            "58. Feature Fjob_health (0.000000)\n"
          ],
          "name": "stdout"
        }
      ]
    },
    {
      "cell_type": "markdown",
      "metadata": {
        "_cell_guid": "daf8ee9f-2d18-687c-ac41-cd738139e743",
        "id": "zUcETtEbRkqX",
        "colab_type": "text"
      },
      "source": [
        "G2의 영향(82%)이 매우 강하다는 걸 알 수 있다. \n",
        "\n",
        "성능에 미치는 영향을 직접적으로 확인해보기 위해 성적 data 없이 G3를 각각 예측하는 알고리즘을 짜보자. 더불어 G1, G2도 예측해보자"
      ]
    },
    {
      "cell_type": "markdown",
      "metadata": {
        "_cell_guid": "3013b854-7aaa-4ad6-7952-1d188121ea25",
        "id": "SxA4mUVlRkqY",
        "colab_type": "text"
      },
      "source": [
        "## Without G1 and G2 features, predict G1 & G2 & G3"
      ]
    },
    {
      "cell_type": "code",
      "metadata": {
        "_cell_guid": "e617ad36-9ccd-9da9-555b-9b5bc335202d",
        "trusted": true,
        "id": "Ey3xvsGiRkqZ",
        "colab_type": "code",
        "colab": {}
      },
      "source": [
        "X2 = data.drop(['G3', 'G2', 'G1'], axis=1)"
      ],
      "execution_count": 0,
      "outputs": []
    },
    {
      "cell_type": "code",
      "metadata": {
        "_cell_guid": "0a6e5eb9-4f9e-19bc-09cf-b2fe8046166a",
        "trusted": true,
        "id": "bIetls-BRkqa",
        "colab_type": "code",
        "colab": {}
      },
      "source": [
        "X2 = pd.get_dummies(X2)\n",
        "y2 = data['G1']\n",
        "y3 = data['G2']\n",
        "# y는 이미 G3"
      ],
      "execution_count": 0,
      "outputs": []
    },
    {
      "cell_type": "code",
      "metadata": {
        "trusted": true,
        "id": "P3atg7fRRkqc",
        "colab_type": "code",
        "colab": {}
      },
      "source": [
        "X_train1, X_test1, y_train1, y_test1 = train_test_split(X2, y2, test_size=0.33, random_state=42) # G1\n",
        "X_train2, X_test2, y_train2, y_test2 = train_test_split(X2, y3, test_size=0.33, random_state=42) # G2\n",
        "X_train3, X_test3, y_train3, y_test3 = train_test_split(X2, y, test_size=0.33, random_state=42) # G3"
      ],
      "execution_count": 0,
      "outputs": []
    },
    {
      "cell_type": "markdown",
      "metadata": {
        "id": "ClEBLfb6Rkqe",
        "colab_type": "text"
      },
      "source": [
        "### Final grade(G3) prediction without G1 & G2"
      ]
    },
    {
      "cell_type": "code",
      "metadata": {
        "trusted": true,
        "id": "3YXT7uS1Rkqf",
        "colab_type": "code",
        "outputId": "3a32d895-b8bb-4af6-f338-02254f95b7ce",
        "colab": {}
      },
      "source": [
        "ls3 = Lasso()\n",
        "ls3.fit(X_train3, y_train3)\n",
        "print(\"Lasso Regression & G3 훈련 세트 정확도: {:.3f}\".format(ls3.score(X_train3, y_train3)))\n",
        "print(\"Lasso Regression & G3 테스트 세트 정확도: {:.3f}\".format(ls3.score(X_test3, y_test3)))"
      ],
      "execution_count": 0,
      "outputs": [
        {
          "output_type": "stream",
          "text": [
            "Lasso Regression & G3 훈련 세트 정확도: 0.000\n",
            "Lasso Regression & G3 테스트 세트 정확도: -0.010\n"
          ],
          "name": "stdout"
        }
      ]
    },
    {
      "cell_type": "code",
      "metadata": {
        "trusted": true,
        "id": "01Am96fGRkqi",
        "colab_type": "code",
        "outputId": "879662c5-7a87-4a36-d864-4151dddd058b",
        "colab": {}
      },
      "source": [
        "tree3 = DecisionTreeRegressor(random_state=0)\n",
        "tree3.fit(X_train3, y_train3)\n",
        "print(\"DecisionTreeRegressor & G3 훈련 세트 정확도: {:.3f}\".format(tree3.score(X_train3, y_train3)))\n",
        "print(\"DecisionTreeRegressor & G3 테스트 세트 정확도: {:.3f}\".format(tree3.score(X_test3, y_test3)))"
      ],
      "execution_count": 0,
      "outputs": [
        {
          "output_type": "stream",
          "text": [
            "DecisionTreeRegressor & G3 훈련 세트 정확도: 1.000\n",
            "DecisionTreeRegressor & G3 테스트 세트 정확도: -0.425\n"
          ],
          "name": "stdout"
        }
      ]
    },
    {
      "cell_type": "code",
      "metadata": {
        "trusted": true,
        "id": "DxP3V-h5Rkqj",
        "colab_type": "code",
        "outputId": "785e194e-e06c-41d7-85ad-cf2943209053",
        "colab": {}
      },
      "source": [
        "rg3 = Ridge()\n",
        "rg3.fit(X_train3, y_train3)\n",
        "print(\"Ridge Regression & G3 훈련 세트 정확도: {:.3f}\".format(rg3.score(X_train3, y_train3)))\n",
        "print(\"Ridge Regression & G3 테스트 세트 정확도: {:.3f}\".format(rg3.score(X_test3, y_test3)))"
      ],
      "execution_count": 0,
      "outputs": [
        {
          "output_type": "stream",
          "text": [
            "Ridge Regression & G3 훈련 세트 정확도: 0.387\n",
            "Ridge Regression & G3 테스트 세트 정확도: 0.223\n"
          ],
          "name": "stdout"
        }
      ]
    },
    {
      "cell_type": "code",
      "metadata": {
        "trusted": true,
        "id": "y1GJg9ulRkqk",
        "colab_type": "code",
        "outputId": "17fbb3c7-2074-4218-9581-6b8546480a0f",
        "colab": {}
      },
      "source": [
        "LR3 = LinearRegression()\n",
        "LR3.fit(X_train3, y_train3)\n",
        "print(\"LinearRegression & G3 훈련 세트 정확도: {:.3f}\".format(LR3.score(X_train3, y_train3)))\n",
        "print(\"LinearRegression & G3 테스트 세트 정확도: {:.3f}\".format(LR3.score(X_test3, y_test3)))"
      ],
      "execution_count": 0,
      "outputs": [
        {
          "output_type": "stream",
          "text": [
            "LinearRegression & G3 훈련 세트 정확도: 0.387\n",
            "LinearRegression & G3 테스트 세트 정확도: 0.220\n"
          ],
          "name": "stdout"
        }
      ]
    },
    {
      "cell_type": "markdown",
      "metadata": {
        "id": "HBw4sknIRkqm",
        "colab_type": "text"
      },
      "source": [
        "### G1 & G2 prediction\n",
        "\n",
        "가장 성능이 잘 나왔던 ridge regression으로 G1, G2도 예측해보자"
      ]
    },
    {
      "cell_type": "code",
      "metadata": {
        "trusted": true,
        "id": "-8LAeemTRkqn",
        "colab_type": "code",
        "outputId": "6d549a2d-542f-40a7-f7ac-0c617ddac44a",
        "colab": {}
      },
      "source": [
        "rg1 = Ridge()\n",
        "rg1.fit(X_train1, y_train1)\n",
        "print(\"Ridge Regression & G1 훈련 세트 정확도: {:.3f}\".format(rg1.score(X_train1, y_train1)))\n",
        "print(\"Ridge Regression & G1 테스트 세트 정확도: {:.3f}\".format(rg1.score(X_test1, y_test1)))"
      ],
      "execution_count": 0,
      "outputs": [
        {
          "output_type": "stream",
          "text": [
            "Ridge Regression & G1 훈련 세트 정확도: 0.407\n",
            "Ridge Regression & G1 테스트 세트 정확도: 0.186\n"
          ],
          "name": "stdout"
        }
      ]
    },
    {
      "cell_type": "code",
      "metadata": {
        "trusted": true,
        "id": "KaM6iPdbRkqp",
        "colab_type": "code",
        "outputId": "1017bb39-8b5e-4800-9f7f-dd101f9f7602",
        "colab": {}
      },
      "source": [
        "rg2 = Ridge()\n",
        "rg2.fit(X_train2, y_train2)\n",
        "print(\"Ridge Regression & G2 훈련 세트 정확도: {:.3f}\".format(rg2.score(X_train2, y_train2)))\n",
        "print(\"Ridge Regression & G2 테스트 세트 정확도: {:.3f}\".format(rg2.score(X_test2, y_test2)))"
      ],
      "execution_count": 0,
      "outputs": [
        {
          "output_type": "stream",
          "text": [
            "Ridge Regression & G2 훈련 세트 정확도: 0.403\n",
            "Ridge Regression & G2 테스트 세트 정확도: 0.164\n"
          ],
          "name": "stdout"
        }
      ]
    },
    {
      "cell_type": "markdown",
      "metadata": {
        "id": "SfMX27vMRkqr",
        "colab_type": "text"
      },
      "source": [
        "* 실험 분석 결과  \n",
        "L2 regularization을 사용하는 Ridge는 계수값을 줄이면서 Feature들간의 영향을 줄이는 역할을 하기에 G2 feature를 제거해도 상대적으로 강건한(robust) 반면,\n",
        " L1 regularization을 사용하는 Lasso는 변수들끼리 correlate할때 단 한개의 변수만 채택하고 다른 계수를 0으로 바꾼다. 그만큼 상관성이 많이 작용하는 알고리즘이라 정확도가 마이너스를 기록.\n",
        "Decision Tree는 Overfitting에 대한 취약성을 여실히 보여주었다.\n",
        "\n",
        "\n",
        "* Code Reference : https://www.kaggle.com/dmitriy19/basic-eda-and-final-grade-prediction"
      ]
    }
  ]
}